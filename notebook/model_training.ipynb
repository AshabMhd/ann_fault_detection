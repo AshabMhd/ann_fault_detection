{
 "cells": [
  {
   "cell_type": "code",
   "execution_count": 94,
   "id": "d6f4426a-11e7-417f-a619-ee636f8d0f99",
   "metadata": {},
   "outputs": [],
   "source": [
    "import tensorflow as tf\n",
    "from tensorflow import keras\n",
    "from tensorflow.keras.models import Sequential\n",
    "from tensorflow.keras.layers import Dense, Dropout\n",
    "from tensorflow.keras.optimizers import Adam\n",
    "from tensorflow.keras.losses import BinaryCrossentropy\n",
    "from tensorflow.keras.metrics import Accuracy, AUC\n",
    "from sklearn.utils import class_weight\n",
    "from tensorflow.keras.callbacks import EarlyStopping\n",
    "from sklearn.metrics import classification_report, roc_auc_score, confusion_matrix\n",
    "import numpy as np\n",
    "import pandas as pd\n",
    "from sklearn.model_selection import train_test_split\n",
    "from sklearn.preprocessing import StandardScaler\n",
    "from sklearn.impute import SimpleImputer"
   ]
  },
  {
   "cell_type": "code",
   "execution_count": 95,
   "id": "3931b78b-8a23-4b1b-a1ac-0ba10face2cd",
   "metadata": {},
   "outputs": [
    {
     "data": {
      "text/html": [
       "<div>\n",
       "<style scoped>\n",
       "    .dataframe tbody tr th:only-of-type {\n",
       "        vertical-align: middle;\n",
       "    }\n",
       "\n",
       "    .dataframe tbody tr th {\n",
       "        vertical-align: top;\n",
       "    }\n",
       "\n",
       "    .dataframe thead th {\n",
       "        text-align: right;\n",
       "    }\n",
       "</style>\n",
       "<table border=\"1\" class=\"dataframe\">\n",
       "  <thead>\n",
       "    <tr style=\"text-align: right;\">\n",
       "      <th></th>\n",
       "      <th>Sensor_1</th>\n",
       "      <th>Sensor_2</th>\n",
       "      <th>Sensor_3</th>\n",
       "      <th>Sensor_4</th>\n",
       "      <th>Sensor_5</th>\n",
       "      <th>Sensor_6</th>\n",
       "      <th>Fault</th>\n",
       "    </tr>\n",
       "  </thead>\n",
       "  <tbody>\n",
       "    <tr>\n",
       "      <th>1990</th>\n",
       "      <td>0.193988</td>\n",
       "      <td>-1.862589</td>\n",
       "      <td>0.547393</td>\n",
       "      <td>66.052032</td>\n",
       "      <td>0.462090</td>\n",
       "      <td>0.733931</td>\n",
       "      <td>0</td>\n",
       "    </tr>\n",
       "    <tr>\n",
       "      <th>1547</th>\n",
       "      <td>0.071719</td>\n",
       "      <td>-0.545922</td>\n",
       "      <td>-0.183726</td>\n",
       "      <td>146.173301</td>\n",
       "      <td>10.162535</td>\n",
       "      <td>0.029255</td>\n",
       "      <td>1</td>\n",
       "    </tr>\n",
       "    <tr>\n",
       "      <th>19</th>\n",
       "      <td>0.096365</td>\n",
       "      <td>0.674734</td>\n",
       "      <td>0.155185</td>\n",
       "      <td>66.959750</td>\n",
       "      <td>15.756295</td>\n",
       "      <td>0.282515</td>\n",
       "      <td>0</td>\n",
       "    </tr>\n",
       "    <tr>\n",
       "      <th>1504</th>\n",
       "      <td>0.230412</td>\n",
       "      <td>-0.143659</td>\n",
       "      <td>0.807455</td>\n",
       "      <td>68.153447</td>\n",
       "      <td>6.418759</td>\n",
       "      <td>0.294916</td>\n",
       "      <td>0</td>\n",
       "    </tr>\n",
       "    <tr>\n",
       "      <th>192</th>\n",
       "      <td>0.465272</td>\n",
       "      <td>0.905623</td>\n",
       "      <td>0.361826</td>\n",
       "      <td>92.687804</td>\n",
       "      <td>10.684811</td>\n",
       "      <td>0.430142</td>\n",
       "      <td>0</td>\n",
       "    </tr>\n",
       "  </tbody>\n",
       "</table>\n",
       "</div>"
      ],
      "text/plain": [
       "      Sensor_1  Sensor_2  Sensor_3    Sensor_4   Sensor_5  Sensor_6  Fault\n",
       "1990  0.193988 -1.862589  0.547393   66.052032   0.462090  0.733931      0\n",
       "1547  0.071719 -0.545922 -0.183726  146.173301  10.162535  0.029255      1\n",
       "19    0.096365  0.674734  0.155185   66.959750  15.756295  0.282515      0\n",
       "1504  0.230412 -0.143659  0.807455   68.153447   6.418759  0.294916      0\n",
       "192   0.465272  0.905623  0.361826   92.687804  10.684811  0.430142      0"
      ]
     },
     "execution_count": 95,
     "metadata": {},
     "output_type": "execute_result"
    }
   ],
   "source": [
    "df=pd.read_csv(\"./../data/ANN_Challenge_Train_v1.csv\")\n",
    "df=df.drop(0)\n",
    "X = df.drop('Fault', axis=1)\n",
    "y = df['Fault']\n",
    "df.sample(5)"
   ]
  },
  {
   "cell_type": "code",
   "execution_count": 96,
   "id": "83294d65-7e9b-4c35-bffb-611abdcec5ee",
   "metadata": {
    "scrolled": true
   },
   "outputs": [
    {
     "data": {
      "text/plain": [
       "Sensor_1      0\n",
       "Sensor_2      0\n",
       "Sensor_3      0\n",
       "Sensor_4      0\n",
       "Sensor_5    150\n",
       "Sensor_6      0\n",
       "dtype: int64"
      ]
     },
     "execution_count": 96,
     "metadata": {},
     "output_type": "execute_result"
    }
   ],
   "source": [
    "X.isna().sum()"
   ]
  },
  {
   "cell_type": "code",
   "execution_count": 97,
   "id": "bba67d75-dce5-4b3e-b10b-3184b5ff066b",
   "metadata": {},
   "outputs": [],
   "source": [
    "imputer = SimpleImputer(strategy='median')\n",
    "X['Sensor_5'] = imputer.fit_transform(X[['Sensor_5']])"
   ]
  },
  {
   "cell_type": "markdown",
   "id": "9174a675-bb7e-4171-8ba0-ed9407e613ae",
   "metadata": {},
   "source": [
    "Sensor_5 column contained missing values\n",
    "so I used median imputation for the missing values\n",
    "I wanted a safe and statistically sound approach that doesn’t distort the original data distribution."
   ]
  },
  {
   "cell_type": "code",
   "execution_count": 98,
   "id": "65b04b1d-d42e-4568-9d58-53e75f2474e2",
   "metadata": {},
   "outputs": [],
   "source": [
    "from sklearn.preprocessing import StandardScaler\n",
    "scaler = StandardScaler()\n",
    "X = scaler.fit_transform(X)"
   ]
  },
  {
   "cell_type": "markdown",
   "id": "a0b423d5-5270-44e6-9cae-d11d648c92a4",
   "metadata": {},
   "source": [
    "it's crucial to normalize or scale features, especially when they vary in magnitude. \n",
    "In this step, I applied standardization to my dataset using StandardScaler"
   ]
  },
  {
   "cell_type": "code",
   "execution_count": 99,
   "id": "237d9941-df85-4c3d-9209-35117ea5a723",
   "metadata": {},
   "outputs": [
    {
     "data": {
      "text/plain": [
       "Fault\n",
       "0    2399\n",
       "1     600\n",
       "Name: count, dtype: int64"
      ]
     },
     "execution_count": 99,
     "metadata": {},
     "output_type": "execute_result"
    }
   ],
   "source": [
    "y.value_counts()"
   ]
  },
  {
   "cell_type": "markdown",
   "id": "5b73516e-9109-4f37-9598-0d89084e9e49",
   "metadata": {},
   "source": [
    "there is imbalance in the class weight distribution.It can cause the model to become biased towards the majority class.\n",
    "Rather than oversampling or undersampling (which can distort data or reduce information), I opted for class weighting, which is a safer and more flexible approach in neural networks.\n",
    "I used sklearn.utils.class_weight.compute_class_weight() to automatically compute balanced weights.\n",
    "Encourages the model to pay more attention to underrepresented faults.\n",
    "Improves recall and F1-score for the minority class."
   ]
  },
  {
   "cell_type": "code",
   "execution_count": 100,
   "id": "f308ca8b-e926-43a2-b8cd-9185e2ec196d",
   "metadata": {},
   "outputs": [],
   "source": [
    "X_train, X_test, y_train, y_test = train_test_split(X, y, test_size=0.2, random_state=42)"
   ]
  },
  {
   "cell_type": "markdown",
   "id": "be13024c-3d59-4dbd-8459-1ad89c016296",
   "metadata": {},
   "source": [
    "For the model Architecture, i tried many variation like with 3 layers etc. Dropout helped further in preventing overfitting. this model architecture was optimal for this dataset. i used Adam optimizer since that can computation faster. "
   ]
  },
  {
   "cell_type": "markdown",
   "id": "631630cf-804e-453a-8055-7394513f7675",
   "metadata": {},
   "source": [
    "I used the EarlyStopping callback to monitor validation AUC during training. AUC is a powerful metric that measures how well the model separates the two classes. Since the dataset is imbalanced, AUC provides a more reliable picture than plain accuracy. Early stopping with patience=5 ensures training halts once validation performance plateaus, and restore_best_weights=True ensures the best-performing model (not just the final one) is retained."
   ]
  },
  {
   "cell_type": "code",
   "execution_count": 101,
   "id": "6d5ee4b9-0abf-4183-bf76-c428be3e7f05",
   "metadata": {},
   "outputs": [
    {
     "name": "stdout",
     "output_type": "stream",
     "text": [
      "Epoch 1/50\n",
      "\u001b[1m60/60\u001b[0m \u001b[32m━━━━━━━━━━━━━━━━━━━━\u001b[0m\u001b[37m\u001b[0m \u001b[1m1s\u001b[0m 3ms/step - accuracy: 0.7358 - auc: 0.6887 - loss: 0.6476 - val_accuracy: 0.8396 - val_auc: 0.9033 - val_loss: 0.4471\n",
      "Epoch 2/50\n",
      "\u001b[1m60/60\u001b[0m \u001b[32m━━━━━━━━━━━━━━━━━━━━\u001b[0m\u001b[37m\u001b[0m \u001b[1m0s\u001b[0m 1ms/step - accuracy: 0.7847 - auc: 0.8460 - loss: 0.4983 - val_accuracy: 0.8333 - val_auc: 0.9052 - val_loss: 0.4116\n",
      "Epoch 3/50\n",
      "\u001b[1m60/60\u001b[0m \u001b[32m━━━━━━━━━━━━━━━━━━━━\u001b[0m\u001b[37m\u001b[0m \u001b[1m0s\u001b[0m 1ms/step - accuracy: 0.7970 - auc: 0.8499 - loss: 0.5009 - val_accuracy: 0.8562 - val_auc: 0.9097 - val_loss: 0.3912\n",
      "Epoch 4/50\n",
      "\u001b[1m60/60\u001b[0m \u001b[32m━━━━━━━━━━━━━━━━━━━━\u001b[0m\u001b[37m\u001b[0m \u001b[1m0s\u001b[0m 1ms/step - accuracy: 0.8266 - auc: 0.8760 - loss: 0.4558 - val_accuracy: 0.8521 - val_auc: 0.9127 - val_loss: 0.3817\n",
      "Epoch 5/50\n",
      "\u001b[1m60/60\u001b[0m \u001b[32m━━━━━━━━━━━━━━━━━━━━\u001b[0m\u001b[37m\u001b[0m \u001b[1m0s\u001b[0m 1ms/step - accuracy: 0.8119 - auc: 0.8611 - loss: 0.4768 - val_accuracy: 0.8667 - val_auc: 0.9150 - val_loss: 0.3642\n",
      "Epoch 6/50\n",
      "\u001b[1m60/60\u001b[0m \u001b[32m━━━━━━━━━━━━━━━━━━━━\u001b[0m\u001b[37m\u001b[0m \u001b[1m0s\u001b[0m 1ms/step - accuracy: 0.8263 - auc: 0.8693 - loss: 0.4669 - val_accuracy: 0.8625 - val_auc: 0.9158 - val_loss: 0.3765\n",
      "Epoch 7/50\n",
      "\u001b[1m60/60\u001b[0m \u001b[32m━━━━━━━━━━━━━━━━━━━━\u001b[0m\u001b[37m\u001b[0m \u001b[1m0s\u001b[0m 1ms/step - accuracy: 0.8408 - auc: 0.8841 - loss: 0.4393 - val_accuracy: 0.8667 - val_auc: 0.9188 - val_loss: 0.3694\n",
      "Epoch 8/50\n",
      "\u001b[1m60/60\u001b[0m \u001b[32m━━━━━━━━━━━━━━━━━━━━\u001b[0m\u001b[37m\u001b[0m \u001b[1m0s\u001b[0m 1ms/step - accuracy: 0.8348 - auc: 0.8844 - loss: 0.4479 - val_accuracy: 0.8625 - val_auc: 0.9172 - val_loss: 0.3767\n",
      "Epoch 9/50\n",
      "\u001b[1m60/60\u001b[0m \u001b[32m━━━━━━━━━━━━━━━━━━━━\u001b[0m\u001b[37m\u001b[0m \u001b[1m0s\u001b[0m 1ms/step - accuracy: 0.8414 - auc: 0.8757 - loss: 0.4580 - val_accuracy: 0.8667 - val_auc: 0.9198 - val_loss: 0.3646\n",
      "Epoch 10/50\n",
      "\u001b[1m60/60\u001b[0m \u001b[32m━━━━━━━━━━━━━━━━━━━━\u001b[0m\u001b[37m\u001b[0m \u001b[1m0s\u001b[0m 1ms/step - accuracy: 0.8459 - auc: 0.8890 - loss: 0.4204 - val_accuracy: 0.8583 - val_auc: 0.9182 - val_loss: 0.3769\n",
      "Epoch 11/50\n",
      "\u001b[1m60/60\u001b[0m \u001b[32m━━━━━━━━━━━━━━━━━━━━\u001b[0m\u001b[37m\u001b[0m \u001b[1m0s\u001b[0m 1ms/step - accuracy: 0.8310 - auc: 0.8753 - loss: 0.4470 - val_accuracy: 0.8646 - val_auc: 0.9184 - val_loss: 0.3588\n",
      "Epoch 12/50\n",
      "\u001b[1m60/60\u001b[0m \u001b[32m━━━━━━━━━━━━━━━━━━━━\u001b[0m\u001b[37m\u001b[0m \u001b[1m0s\u001b[0m 1ms/step - accuracy: 0.8152 - auc: 0.8523 - loss: 0.5041 - val_accuracy: 0.8813 - val_auc: 0.9206 - val_loss: 0.3216\n",
      "Epoch 13/50\n",
      "\u001b[1m60/60\u001b[0m \u001b[32m━━━━━━━━━━━━━━━━━━━━\u001b[0m\u001b[37m\u001b[0m \u001b[1m0s\u001b[0m 1ms/step - accuracy: 0.8424 - auc: 0.8801 - loss: 0.4392 - val_accuracy: 0.8729 - val_auc: 0.9225 - val_loss: 0.3384\n",
      "Epoch 14/50\n",
      "\u001b[1m60/60\u001b[0m \u001b[32m━━━━━━━━━━━━━━━━━━━━\u001b[0m\u001b[37m\u001b[0m \u001b[1m0s\u001b[0m 1ms/step - accuracy: 0.8428 - auc: 0.8808 - loss: 0.4384 - val_accuracy: 0.8667 - val_auc: 0.9236 - val_loss: 0.3468\n",
      "Epoch 15/50\n",
      "\u001b[1m60/60\u001b[0m \u001b[32m━━━━━━━━━━━━━━━━━━━━\u001b[0m\u001b[37m\u001b[0m \u001b[1m0s\u001b[0m 1ms/step - accuracy: 0.8565 - auc: 0.9043 - loss: 0.3885 - val_accuracy: 0.8729 - val_auc: 0.9231 - val_loss: 0.3460\n",
      "Epoch 16/50\n",
      "\u001b[1m60/60\u001b[0m \u001b[32m━━━━━━━━━━━━━━━━━━━━\u001b[0m\u001b[37m\u001b[0m \u001b[1m0s\u001b[0m 1ms/step - accuracy: 0.8354 - auc: 0.8887 - loss: 0.4286 - val_accuracy: 0.8771 - val_auc: 0.9257 - val_loss: 0.3377\n",
      "Epoch 17/50\n",
      "\u001b[1m60/60\u001b[0m \u001b[32m━━━━━━━━━━━━━━━━━━━━\u001b[0m\u001b[37m\u001b[0m \u001b[1m0s\u001b[0m 1ms/step - accuracy: 0.8500 - auc: 0.8966 - loss: 0.3982 - val_accuracy: 0.8833 - val_auc: 0.9257 - val_loss: 0.3123\n",
      "Epoch 18/50\n",
      "\u001b[1m60/60\u001b[0m \u001b[32m━━━━━━━━━━━━━━━━━━━━\u001b[0m\u001b[37m\u001b[0m \u001b[1m0s\u001b[0m 1ms/step - accuracy: 0.8641 - auc: 0.9002 - loss: 0.3841 - val_accuracy: 0.8708 - val_auc: 0.9278 - val_loss: 0.3516\n",
      "Epoch 19/50\n",
      "\u001b[1m60/60\u001b[0m \u001b[32m━━━━━━━━━━━━━━━━━━━━\u001b[0m\u001b[37m\u001b[0m \u001b[1m0s\u001b[0m 1ms/step - accuracy: 0.8227 - auc: 0.8789 - loss: 0.4379 - val_accuracy: 0.8750 - val_auc: 0.9271 - val_loss: 0.3328\n",
      "Epoch 20/50\n",
      "\u001b[1m60/60\u001b[0m \u001b[32m━━━━━━━━━━━━━━━━━━━━\u001b[0m\u001b[37m\u001b[0m \u001b[1m0s\u001b[0m 1ms/step - accuracy: 0.8514 - auc: 0.8832 - loss: 0.4267 - val_accuracy: 0.8729 - val_auc: 0.9255 - val_loss: 0.3395\n",
      "Epoch 21/50\n",
      "\u001b[1m60/60\u001b[0m \u001b[32m━━━━━━━━━━━━━━━━━━━━\u001b[0m\u001b[37m\u001b[0m \u001b[1m0s\u001b[0m 1ms/step - accuracy: 0.8550 - auc: 0.8990 - loss: 0.3949 - val_accuracy: 0.8750 - val_auc: 0.9254 - val_loss: 0.3303\n",
      "Epoch 22/50\n",
      "\u001b[1m60/60\u001b[0m \u001b[32m━━━━━━━━━━━━━━━━━━━━\u001b[0m\u001b[37m\u001b[0m \u001b[1m0s\u001b[0m 1ms/step - accuracy: 0.8529 - auc: 0.8963 - loss: 0.3889 - val_accuracy: 0.8792 - val_auc: 0.9333 - val_loss: 0.3289\n",
      "Epoch 23/50\n",
      "\u001b[1m60/60\u001b[0m \u001b[32m━━━━━━━━━━━━━━━━━━━━\u001b[0m\u001b[37m\u001b[0m \u001b[1m0s\u001b[0m 1ms/step - accuracy: 0.8796 - auc: 0.9256 - loss: 0.3448 - val_accuracy: 0.8771 - val_auc: 0.9305 - val_loss: 0.3288\n",
      "Epoch 24/50\n",
      "\u001b[1m60/60\u001b[0m \u001b[32m━━━━━━━━━━━━━━━━━━━━\u001b[0m\u001b[37m\u001b[0m \u001b[1m0s\u001b[0m 1ms/step - accuracy: 0.8698 - auc: 0.8984 - loss: 0.3861 - val_accuracy: 0.8708 - val_auc: 0.9316 - val_loss: 0.3332\n",
      "Epoch 25/50\n",
      "\u001b[1m60/60\u001b[0m \u001b[32m━━━━━━━━━━━━━━━━━━━━\u001b[0m\u001b[37m\u001b[0m \u001b[1m0s\u001b[0m 1ms/step - accuracy: 0.8631 - auc: 0.8917 - loss: 0.3901 - val_accuracy: 0.8750 - val_auc: 0.9320 - val_loss: 0.3360\n",
      "Epoch 26/50\n",
      "\u001b[1m60/60\u001b[0m \u001b[32m━━━━━━━━━━━━━━━━━━━━\u001b[0m\u001b[37m\u001b[0m \u001b[1m0s\u001b[0m 1ms/step - accuracy: 0.8616 - auc: 0.8931 - loss: 0.3899 - val_accuracy: 0.8958 - val_auc: 0.9333 - val_loss: 0.3026\n",
      "Epoch 27/50\n",
      "\u001b[1m60/60\u001b[0m \u001b[32m━━━━━━━━━━━━━━━━━━━━\u001b[0m\u001b[37m\u001b[0m \u001b[1m0s\u001b[0m 1ms/step - accuracy: 0.8794 - auc: 0.9051 - loss: 0.3683 - val_accuracy: 0.8813 - val_auc: 0.9296 - val_loss: 0.3252\n"
     ]
    }
   ],
   "source": [
    "cw_vals = class_weight.compute_class_weight('balanced', classes=np.array([0,1]), y=y_train)\n",
    "class_weights = {0: cw_vals[0], 1: cw_vals[1]}\n",
    "\n",
    "\n",
    "model = Sequential([\n",
    "    Dense(128, activation='relu'),\n",
    "    Dropout(0.4),\n",
    "    Dense(64, activation='relu'),\n",
    "    Dropout(0.3),\n",
    "    Dense(32, activation='relu'),\n",
    "    Dense(1, activation='sigmoid')\n",
    "])\n",
    "model.compile(\n",
    "    optimizer=Adam(learning_rate=1e-3),\n",
    "    loss=BinaryCrossentropy(),\n",
    "    metrics=['accuracy', tf.keras.metrics.AUC(name='auc')]\n",
    ")\n",
    "\n",
    "# 9. Callbacks for early stopping on validation AUC\n",
    "early_stop = EarlyStopping(monitor='val_auc', mode='max', patience=5, restore_best_weights=True)\n",
    "\n",
    "history = model.fit(\n",
    "    X_train, y_train,\n",
    "    validation_split=0.2,\n",
    "    epochs=50,\n",
    "    batch_size=32,\n",
    "    class_weight=class_weights,\n",
    "    callbacks=[early_stop],\n",
    "    verbose=1\n",
    ")"
   ]
  },
  {
   "cell_type": "code",
   "execution_count": null,
   "id": "04986849-102f-4b68-952d-2f9950d49731",
   "metadata": {},
   "outputs": [],
   "source": []
  },
  {
   "cell_type": "code",
   "execution_count": 102,
   "id": "5e5d8db2-0385-4021-ba9b-0f27f2dd1760",
   "metadata": {},
   "outputs": [
    {
     "name": "stdout",
     "output_type": "stream",
     "text": [
      "Test Loss:    0.37220999598503113\n",
      "Test Accuracy: 0.875\n",
      "Test AUC:     0.9008247256278992\n",
      "\u001b[1m19/19\u001b[0m \u001b[32m━━━━━━━━━━━━━━━━━━━━\u001b[0m\u001b[37m\u001b[0m \u001b[1m0s\u001b[0m 2ms/step \n",
      "Classification Report:\n",
      "               precision    recall  f1-score   support\n",
      "\n",
      "           0     0.9617    0.8804    0.9193       485\n",
      "           1     0.6282    0.8522    0.7232       115\n",
      "\n",
      "    accuracy                         0.8750       600\n",
      "   macro avg     0.7950    0.8663    0.8213       600\n",
      "weighted avg     0.8978    0.8750    0.8817       600\n",
      "\n",
      "Confusion Matrix:\n",
      " [[427  58]\n",
      " [ 17  98]]\n",
      "ROC AUC: 0.901407440609592\n"
     ]
    }
   ],
   "source": [
    "results = model.evaluate(X_test, y_test, verbose=0)\n",
    "print(\"Test Loss:   \", results[0])\n",
    "print(\"Test Accuracy:\", results[1])\n",
    "print(\"Test AUC:    \", results[2])\n",
    "\n",
    "y_prob = model.predict(X_test).ravel()\n",
    "y_pred = (y_prob >= 0.5).astype(int)\n",
    "\n",
    "print(\"Classification Report:\\n\", classification_report(y_test, y_pred, digits=4))\n",
    "print(\"Confusion Matrix:\\n\", confusion_matrix(y_test, y_pred))\n",
    "print(\"ROC AUC:\", roc_auc_score(y_test, y_prob))\n"
   ]
  },
  {
   "cell_type": "code",
   "execution_count": 103,
   "id": "b65e59d2-9be7-46fb-9d73-298f03c5d810",
   "metadata": {},
   "outputs": [
    {
     "data": {
      "text/plain": [
       "['./../model/imputer.save']"
      ]
     },
     "execution_count": 103,
     "metadata": {},
     "output_type": "execute_result"
    }
   ],
   "source": [
    "import joblib\n",
    "model.save('./../model/ann_model.keras')                 \n",
    "joblib.dump(scaler, './../model/scaler.save')    \n",
    "joblib.dump(imputer, './../model/imputer.save')\n"
   ]
  }
 ],
 "metadata": {
  "kernelspec": {
   "display_name": "ann",
   "language": "python",
   "name": "python3"
  },
  "language_info": {
   "codemirror_mode": {
    "name": "ipython",
    "version": 3
   },
   "file_extension": ".py",
   "mimetype": "text/x-python",
   "name": "python",
   "nbconvert_exporter": "python",
   "pygments_lexer": "ipython3",
   "version": "3.12.9"
  }
 },
 "nbformat": 4,
 "nbformat_minor": 5
}

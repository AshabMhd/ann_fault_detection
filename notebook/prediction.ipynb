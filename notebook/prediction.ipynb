{
 "cells": [
  {
   "cell_type": "code",
   "execution_count": 5,
   "id": "e76232e9",
   "metadata": {},
   "outputs": [],
   "source": [
    "import tensorflow as tf\n",
    "from tensorflow import keras\n",
    "import numpy as np\n",
    "import pandas as pd\n",
    "from sklearn.preprocessing import StandardScaler\n",
    "from sklearn.impute import SimpleImputer\n",
    "import joblib"
   ]
  },
  {
   "cell_type": "code",
   "execution_count": 6,
   "id": "eb916532",
   "metadata": {},
   "outputs": [],
   "source": [
    "df_test = pd.read_csv('./../data/ANN_Challenge_Test_with_ID_v1.csv')"
   ]
  },
  {
   "cell_type": "code",
   "execution_count": 7,
   "id": "ab459061",
   "metadata": {},
   "outputs": [
    {
     "data": {
      "text/plain": [
       "ID           0\n",
       "Sensor_1     0\n",
       "Sensor_2     0\n",
       "Sensor_3     0\n",
       "Sensor_4     0\n",
       "Sensor_5    70\n",
       "Sensor_6     0\n",
       "dtype: int64"
      ]
     },
     "execution_count": 7,
     "metadata": {},
     "output_type": "execute_result"
    }
   ],
   "source": [
    "df_test.isna().sum()"
   ]
  },
  {
   "cell_type": "code",
   "execution_count": 8,
   "id": "c1e2b9d5",
   "metadata": {},
   "outputs": [
    {
     "data": {
      "text/plain": [
       "ID          0\n",
       "Sensor_1    0\n",
       "Sensor_2    0\n",
       "Sensor_3    0\n",
       "Sensor_4    0\n",
       "Sensor_5    0\n",
       "Sensor_6    0\n",
       "dtype: int64"
      ]
     },
     "execution_count": 8,
     "metadata": {},
     "output_type": "execute_result"
    }
   ],
   "source": [
    "imputer = joblib.load('./../model/imputer.save')\n",
    "df_test['Sensor_5'] = imputer.transform(df_test[['Sensor_5']])\n",
    "df_test.isna().sum()"
   ]
  },
  {
   "cell_type": "code",
   "execution_count": 9,
   "id": "eca1a6f5",
   "metadata": {},
   "outputs": [],
   "source": [
    "scaler = joblib.load('./../model/scaler.save')\n",
    "X_test= df_test.drop('ID', axis=1)\n",
    "X_test = scaler.transform(X_test)"
   ]
  },
  {
   "cell_type": "code",
   "execution_count": 10,
   "id": "7537946f",
   "metadata": {},
   "outputs": [
    {
     "name": "stdout",
     "output_type": "stream",
     "text": [
      "\u001b[1m32/32\u001b[0m \u001b[32m━━━━━━━━━━━━━━━━━━━━\u001b[0m\u001b[37m\u001b[0m \u001b[1m0s\u001b[0m 1ms/step \n"
     ]
    }
   ],
   "source": [
    "model = tf.keras.models.load_model('./../model/ann_model.keras')\n",
    "y_prob = model.predict(X_test).ravel()\n",
    "y_pred = (y_prob >= 0.5).astype(int)\n",
    "output_df = pd.DataFrame({\n",
    "    'ID': df_test['ID'],\n",
    "    'Fault': y_pred\n",
    "})\n",
    "output_df.to_csv('./../data/prediction.csv', index=False)"
   ]
  },
  {
   "cell_type": "code",
   "execution_count": null,
   "id": "fa5ba7a1",
   "metadata": {},
   "outputs": [],
   "source": []
  }
 ],
 "metadata": {
  "kernelspec": {
   "display_name": "ann",
   "language": "python",
   "name": "python3"
  },
  "language_info": {
   "codemirror_mode": {
    "name": "ipython",
    "version": 3
   },
   "file_extension": ".py",
   "mimetype": "text/x-python",
   "name": "python",
   "nbconvert_exporter": "python",
   "pygments_lexer": "ipython3",
   "version": "3.12.9"
  }
 },
 "nbformat": 4,
 "nbformat_minor": 5
}
